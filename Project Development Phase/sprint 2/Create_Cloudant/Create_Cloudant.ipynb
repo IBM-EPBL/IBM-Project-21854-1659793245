{
  "nbformat": 4,
  "nbformat_minor": 0,
  "metadata": {
    "colab": {
      "provenance": []
    },
    "kernelspec": {
      "name": "python3",
      "display_name": "Python 3"
    },
    "language_info": {
      "name": "python"
    }
  },
  "cells": [
    {
      "cell_type": "markdown",
      "source": [
        "CREATE DATABASE"
      ],
      "metadata": {
        "id": "82ZOLdoQlw1-"
      }
    },
    {
      "cell_type": "code",
      "source": [
        "!pip install -q cloudant"
      ],
      "metadata": {
        "colab": {
          "base_uri": "https://localhost:8080/"
        },
        "id": "W0izkbh_l44-",
        "outputId": "763bf343-47ed-4ea9-811b-68059ebf787c"
      },
      "execution_count": null,
      "outputs": [
        {
          "output_type": "stream",
          "name": "stdout",
          "text": [
            "\u001b[?25l\r\u001b[K     |████                            | 10 kB 14.8 MB/s eta 0:00:01\r\u001b[K     |████████▏                       | 20 kB 18.3 MB/s eta 0:00:01\r\u001b[K     |████████████▏                   | 30 kB 23.7 MB/s eta 0:00:01\r\u001b[K     |████████████████▎               | 40 kB 7.0 MB/s eta 0:00:01\r\u001b[K     |████████████████████▍           | 51 kB 6.0 MB/s eta 0:00:01\r\u001b[K     |████████████████████████▍       | 61 kB 7.0 MB/s eta 0:00:01\r\u001b[K     |████████████████████████████▌   | 71 kB 7.6 MB/s eta 0:00:01\r\u001b[K     |████████████████████████████████| 80 kB 4.0 MB/s \n",
            "\u001b[?25h"
          ]
        }
      ]
    },
    {
      "cell_type": "code",
      "source": [
        "from cloudant.client import Cloudant"
      ],
      "metadata": {
        "id": "_FaeOvHRmYF0"
      },
      "execution_count": null,
      "outputs": []
    },
    {
      "cell_type": "code",
      "source": [
        "# Authenticate using an IAM API key\n",
        "\n",
        "client = Cloudant.iam('94bd3ae2-1c46-****-*****-3680a03ea6f0-bluemix','HeJzpRSVVgkb6q-2-****-*****Pnbz9CceiiopkRv-d', connect=True)"
      ],
      "metadata": {
        "id": "c2oe0dzBmgW6"
      },
      "execution_count": null,
      "outputs": []
    },
    {
      "cell_type": "code",
      "source": [
        "#Create a database using an initialized client\n",
        "\n",
        "my_database = client.create_database('my_database')"
      ],
      "metadata": {
        "id": "lrV6Pei-nC78"
      },
      "execution_count": null,
      "outputs": []
    }
  ]
}